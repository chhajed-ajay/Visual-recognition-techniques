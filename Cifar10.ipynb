{
  "cells": [
    {
      "cell_type": "code",
      "execution_count": 1,
      "metadata": {
        "id": "BfRONjG1ZWFx"
      },
      "outputs": [],
      "source": [
        "from keras.datasets import cifar10\n",
        "from matplotlib import pyplot\n",
        "import cv2 as cv\n",
        "import numpy as np\n",
        "from sklearn.cluster import KMeans\n",
        "from scipy.cluster.vq import *\n",
        "from sklearn.preprocessing import StandardScaler\n",
        "from sklearn.model_selection import train_test_split\n",
        "from sklearn.neighbors import KNeighborsClassifier\n",
        "import sklearn.metrics as metrics"
      ]
    },
    {
      "cell_type": "code",
      "execution_count": 2,
      "metadata": {
        "colab": {
          "base_uri": "https://localhost:8080/"
        },
        "id": "766zdKnYZX_N",
        "outputId": "9022bfa3-2dc8-41a3-fd84-ced126809b0f"
      },
      "outputs": [
        {
          "name": "stdout",
          "output_type": "stream",
          "text": [
            "A local file was found, but it seems to be incomplete or outdated because the auto file hash does not match the original value of 6d958be074577803d12ecdefd02955f39262c83c16fe9348329d7fe0b5c001ce so we will re-download the data.\n",
            "Downloading data from https://www.cs.toronto.edu/~kriz/cifar-10-python.tar.gz\n",
            "  3399680/170498071 [..............................] - ETA: 13:45"
          ]
        }
      ],
      "source": [
        "(trainX, trainy), (testX, testy) = cifar10.load_data()"
      ]
    },
    {
      "cell_type": "code",
      "execution_count": null,
      "metadata": {
        "id": "BtLQzepTZaH6"
      },
      "outputs": [],
      "source": [
        "def getFeatures(images,labels,method=None):\n",
        "\n",
        "    if method == 'sift':\n",
        "        descriptor = cv.SIFT_create()\n",
        "    elif method == 'surf':\n",
        "        descriptor = cv.SURF_create()\n",
        "    desc_lst=[]\n",
        "    labels_lst = []\n",
        "    cnt = 0\n",
        "    kpts_lst=[]\n",
        "\n",
        "    for img in images:\n",
        "      img = cv.cvtColor(img,cv.COLOR_BGR2GRAY)\n",
        "      #img = cv.resize(img,(150,150),interpolation=cv.INTER_AREA)\n",
        "      kpts, desc = descriptor.detectAndCompute(img,None)\n",
        "      if desc is not None:\n",
        "        desc_lst.append(desc)\n",
        "        kpts_lst.append(kpts)\n",
        "        labels_lst.append(int(labels[cnt]))\n",
        "      cnt = cnt + 1\n",
        "    return kpts_lst,desc_lst,labels_lst\n"
      ]
    },
    {
      "cell_type": "code",
      "execution_count": null,
      "metadata": {
        "id": "LWJ6yqriZeuc"
      },
      "outputs": [],
      "source": [
        "kpts_lst,desc_lst,labels_lst = getFeatures(np.concatenate((trainX,testX),axis=0),np.concatenate((trainy,testy)),'sift')"
      ]
    },
    {
      "cell_type": "code",
      "execution_count": null,
      "metadata": {
        "id": "UE8eUyRQZg9P"
      },
      "outputs": [],
      "source": [
        "def getDescriptorStack(desc_lst):\n",
        "  descriptors_stacked = desc_lst[0]\n",
        "  for desc in desc_lst[1:]:\n",
        "    descriptors_stacked = np.vstack((descriptors_stacked,desc))\n",
        "  return descriptors_stacked"
      ]
    },
    {
      "cell_type": "code",
      "execution_count": null,
      "metadata": {
        "id": "ZScXFxqyZiwZ"
      },
      "outputs": [],
      "source": [
        "descriptors_lst = getDescriptorStack(desc_lst)"
      ]
    },
    {
      "cell_type": "code",
      "execution_count": null,
      "metadata": {
        "id": "gv6fqMiQZl8u"
      },
      "outputs": [],
      "source": [
        "k = 80\n",
        "voc,variance = kmeans(descriptors_lst,k,1)"
      ]
    },
    {
      "cell_type": "code",
      "execution_count": null,
      "metadata": {
        "id": "ZPw6rYJgqq1x"
      },
      "outputs": [],
      "source": [
        "imgfeatures = np.zeros((len(labels_lst),k),\"float32\")\n",
        "for i in range(len(labels_lst)):\n",
        "  words,distance = vq(desc_lst[i],voc)\n",
        "  for j in words:\n",
        "    imgfeatures[i][j] +=1"
      ]
    },
    {
      "cell_type": "code",
      "execution_count": null,
      "metadata": {
        "id": "qSmSLufyqtLN"
      },
      "outputs": [],
      "source": [
        "imgfeatures = StandardScaler().fit_transform(imgfeatures)"
      ]
    },
    {
      "cell_type": "code",
      "execution_count": null,
      "metadata": {
        "id": "pI9UOtoSqvZX"
      },
      "outputs": [],
      "source": [
        "xtrain,xtest,ytrain,ytest = train_test_split(imgfeatures,labels_lst,test_size=0.1,random_state = 11)"
      ]
    },
    {
      "cell_type": "code",
      "execution_count": null,
      "metadata": {
        "colab": {
          "base_uri": "https://localhost:8080/"
        },
        "id": "QtnJDejbxJH5",
        "outputId": "311ad756-12d1-4404-9ab9-60d76801880f"
      },
      "outputs": [
        {
          "data": {
            "text/plain": [
              "0.2573480293921176"
            ]
          },
          "execution_count": 56,
          "metadata": {
            "tags": []
          },
          "output_type": "execute_result"
        }
      ],
      "source": [
        "\n",
        "from sklearn.linear_model import LogisticRegression\n",
        "clf = LogisticRegression(random_state=0).fit(xtrain, ytrain)\n",
        "ypred = clf.predict(xtest)\n",
        "metrics.accuracy_score(ytest, ypred)"
      ]
    }
  ],
  "metadata": {
    "colab": {
      "collapsed_sections": [],
      "name": "VR_Assignment_2a",
      "provenance": []
    },
    "kernelspec": {
      "display_name": "Python 3",
      "name": "python3"
    },
    "language_info": {
      "codemirror_mode": {
        "name": "ipython",
        "version": 3
      },
      "file_extension": ".py",
      "mimetype": "text/x-python",
      "name": "python",
      "nbconvert_exporter": "python",
      "pygments_lexer": "ipython3",
      "version": "3.8.9"
    }
  },
  "nbformat": 4,
  "nbformat_minor": 0
}
